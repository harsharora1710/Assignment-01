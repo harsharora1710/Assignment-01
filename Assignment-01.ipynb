{
 "cells": [
  {
   "cell_type": "code",
   "execution_count": 1,
   "id": "cbc0cb30-4c68-4549-bdf5-60296cd7cc78",
   "metadata": {},
   "outputs": [],
   "source": [
    "s=\"harsh\"\n",
    "a=2\n",
    "b=2.4\n",
    "t={\"harsh\",2,2.4,\"fds\"}\n"
   ]
  },
  {
   "cell_type": "code",
   "execution_count": 2,
   "id": "8c378961-9496-481f-ba25-1dfc0793c286",
   "metadata": {},
   "outputs": [
    {
     "name": "stdout",
     "output_type": "stream",
     "text": [
      "harsh\n",
      "2\n",
      "2.4\n",
      "{2, 2.4, 'harsh', 'fds'}\n"
     ]
    }
   ],
   "source": [
    "print(s)\n",
    "print(a)\n",
    "print(b)\n",
    "print(t)"
   ]
  },
  {
   "cell_type": "code",
   "execution_count": 5,
   "id": "0184182d-7466-4bc4-bbe5-4301d0fbc87a",
   "metadata": {},
   "outputs": [
    {
     "name": "stdout",
     "output_type": "stream",
     "text": [
      "<class 'str'>\n",
      "<class 'str'>\n",
      "<class 'list'>\n",
      "<class 'float'>\n"
     ]
    }
   ],
   "source": [
    "var1 = ' '\n",
    "var2 = '[ DS , ML , Python]'\n",
    "var3 = [ 'DS' , 'ML' , 'Python' ]\n",
    "var4 = 1.\n",
    "print(type(var1))\n",
    "print(type(var2))\n",
    "print(type(var3))\n",
    "print(type(var4))"
   ]
  },
  {
   "cell_type": "code",
   "execution_count": 6,
   "id": "df453543-9025-4808-a392-271ff14911c5",
   "metadata": {},
   "outputs": [
    {
     "data": {
      "text/plain": [
       "1.5"
      ]
     },
     "execution_count": 6,
     "metadata": {},
     "output_type": "execute_result"
    }
   ],
   "source": [
    "3/2"
   ]
  },
  {
   "cell_type": "code",
   "execution_count": 7,
   "id": "71a26517-1a64-45b1-bda2-92a7ed51ecfd",
   "metadata": {},
   "outputs": [
    {
     "data": {
      "text/plain": [
       "1"
      ]
     },
     "execution_count": 7,
     "metadata": {},
     "output_type": "execute_result"
    }
   ],
   "source": [
    "3%2"
   ]
  },
  {
   "cell_type": "code",
   "execution_count": 8,
   "id": "4d69cde7-1f1f-44f0-9ee5-27618c8ebacc",
   "metadata": {},
   "outputs": [
    {
     "data": {
      "text/plain": [
       "2"
      ]
     },
     "execution_count": 8,
     "metadata": {},
     "output_type": "execute_result"
    }
   ],
   "source": [
    "5//2"
   ]
  },
  {
   "cell_type": "code",
   "execution_count": 9,
   "id": "a7fe278c-d233-4f46-9b45-c39913c98275",
   "metadata": {},
   "outputs": [
    {
     "data": {
      "text/plain": [
       "9"
      ]
     },
     "execution_count": 9,
     "metadata": {},
     "output_type": "execute_result"
    }
   ],
   "source": [
    "3**2"
   ]
  },
  {
   "cell_type": "code",
   "execution_count": 10,
   "id": "a751142a-e338-43f3-80e5-8f454b03977b",
   "metadata": {},
   "outputs": [
    {
     "name": "stdout",
     "output_type": "stream",
     "text": [
      "1\n",
      "<class 'int'>\n",
      "2\n",
      "<class 'int'>\n",
      "3.4\n",
      "<class 'float'>\n",
      "5.6\n",
      "<class 'float'>\n",
      "harsh\n",
      "<class 'str'>\n",
      "arora\n",
      "<class 'str'>\n",
      "True\n",
      "<class 'bool'>\n",
      "False\n",
      "<class 'bool'>\n",
      "32.1\n",
      "<class 'float'>\n",
      "55\n",
      "<class 'int'>\n"
     ]
    }
   ],
   "source": [
    "l=[1,2,3.4,5.6,\"harsh\",\"arora\",True,False,32.1,55]\n",
    "for i in l:\n",
    "    print(i)\n",
    "    print(type(i))"
   ]
  },
  {
   "cell_type": "code",
   "execution_count": 15,
   "id": "3506c7c9-af49-45f2-ba16-8fd797bc14da",
   "metadata": {},
   "outputs": [
    {
     "name": "stdout",
     "output_type": "stream",
     "text": [
      "Enter the first number\n"
     ]
    },
    {
     "name": "stdin",
     "output_type": "stream",
     "text": [
      " 16\n"
     ]
    },
    {
     "name": "stdout",
     "output_type": "stream",
     "text": [
      "Enter the second number\n"
     ]
    },
    {
     "name": "stdin",
     "output_type": "stream",
     "text": [
      " 4\n"
     ]
    },
    {
     "name": "stdout",
     "output_type": "stream",
     "text": [
      "a is completely divisble by b\n",
      "2\n",
      "times\n"
     ]
    }
   ],
   "source": [
    "print('Enter the first number')\n",
    "a=int(input())\n",
    "print('Enter the second number')\n",
    "b=int(input())\n",
    "ct=0\n",
    "while a%b==0:\n",
    "    a/=b\n",
    "    ct+=1\n",
    "if a==1:\n",
    "    print(\"a is completely divisble by b\")\n",
    "    print(ct)\n",
    "    print(\"times\")\n",
    "else:\n",
    "    print(\"a is not completely divisble by b \")"
   ]
  },
  {
   "cell_type": "code",
   "execution_count": 20,
   "id": "e4b973ed-c73a-47fe-9dcb-aa31164e2609",
   "metadata": {},
   "outputs": [
    {
     "name": "stdout",
     "output_type": "stream",
     "text": [
      "1 is not divisible by 3\n",
      "2 is not divisible by 3\n",
      "3 is divisible by 3\n",
      "4 is not divisible by 3\n",
      "5 is not divisible by 3\n",
      "6 is divisible by 3\n",
      "7 is not divisible by 3\n",
      "8 is not divisible by 3\n",
      "9 is divisible by 3\n",
      "10 is not divisible by 3\n",
      "11 is not divisible by 3\n",
      "12 is divisible by 3\n",
      "13 is not divisible by 3\n",
      "14 is not divisible by 3\n",
      "15 is divisible by 3\n",
      "16 is not divisible by 3\n",
      "17 is not divisible by 3\n",
      "18 is divisible by 3\n",
      "19 is not divisible by 3\n",
      "20 is not divisible by 3\n",
      "21 is divisible by 3\n",
      "22 is not divisible by 3\n",
      "23 is not divisible by 3\n",
      "24 is divisible by 3\n",
      "25 is not divisible by 3\n"
     ]
    }
   ],
   "source": [
    "l=[1,2,3,4,5,6,7,8,9,10,11,12,13,14,15,16,17,18,19,20,21,22,23,24,25]\n",
    "for i in l:\n",
    "    if i%3==0:\n",
    "        print(str(i)+\" is divisible by 3\")\n",
    "    else:\n",
    "        print(str(i)+\" is not divisible by 3\")"
   ]
  },
  {
   "cell_type": "code",
   "execution_count": 23,
   "id": "1c19c564-b226-4851-8085-cb107b14434e",
   "metadata": {},
   "outputs": [
    {
     "ename": "TypeError",
     "evalue": "'str' object does not support item assignment",
     "output_type": "error",
     "traceback": [
      "\u001b[0;31m---------------------------------------------------------------------------\u001b[0m",
      "\u001b[0;31mTypeError\u001b[0m                                 Traceback (most recent call last)",
      "Cell \u001b[0;32mIn[23], line 4\u001b[0m\n\u001b[1;32m      1\u001b[0m \u001b[38;5;66;03m#Mutable objects are the objects in which we can change the individual element present at any index while eg list\u001b[39;00m\n\u001b[1;32m      2\u001b[0m \u001b[38;5;66;03m#Immutable objects are the objects in which we cannot change the individual element present at any index eg string\u001b[39;00m\n\u001b[1;32m      3\u001b[0m s\u001b[38;5;241m=\u001b[39m\u001b[38;5;124m\"\u001b[39m\u001b[38;5;124mharsh\u001b[39m\u001b[38;5;124m\"\u001b[39m\n\u001b[0;32m----> 4\u001b[0m \u001b[43ms\u001b[49m\u001b[43m[\u001b[49m\u001b[38;5;241;43m2\u001b[39;49m\u001b[43m]\u001b[49m\u001b[38;5;241m=\u001b[39m\u001b[38;5;124m'\u001b[39m\u001b[38;5;124ma\u001b[39m\u001b[38;5;124m'\u001b[39m\n",
      "\u001b[0;31mTypeError\u001b[0m: 'str' object does not support item assignment"
     ]
    }
   ],
   "source": [
    "#Mutable objects are the objects in which we can change the individual element present at any index while eg list\n",
    "#Immutable objects are the objects in which we cannot change the individual element present at any index eg string\n",
    "s=\"harsh\"\n",
    "s[2]='a'"
   ]
  },
  {
   "cell_type": "code",
   "execution_count": 24,
   "id": "57400b21-856d-4c78-aabc-378e6c785ac6",
   "metadata": {},
   "outputs": [
    {
     "name": "stdout",
     "output_type": "stream",
     "text": [
      "['a', 'b', 'a', 'd']\n"
     ]
    }
   ],
   "source": [
    "l=['a','b','c','d']\n",
    "l[2]='a'\n",
    "print(l)"
   ]
  },
  {
   "cell_type": "code",
   "execution_count": null,
   "id": "58f37d59-c909-46fd-b2c0-846521ccaf84",
   "metadata": {},
   "outputs": [],
   "source": []
  }
 ],
 "metadata": {
  "kernelspec": {
   "display_name": "Python 3 (ipykernel)",
   "language": "python",
   "name": "python3"
  },
  "language_info": {
   "codemirror_mode": {
    "name": "ipython",
    "version": 3
   },
   "file_extension": ".py",
   "mimetype": "text/x-python",
   "name": "python",
   "nbconvert_exporter": "python",
   "pygments_lexer": "ipython3",
   "version": "3.10.8"
  }
 },
 "nbformat": 4,
 "nbformat_minor": 5
}
